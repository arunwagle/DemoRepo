{
    "metadata": {
        "language_info": {
            "file_extension": ".py", 
            "mimetype": "text/x-python", 
            "nbconvert_exporter": "python", 
            "pygments_lexer": "ipython2", 
            "name": "python", 
            "codemirror_mode": {
                "version": 2, 
                "name": "ipython"
            }, 
            "version": "2.7.11"
        }, 
        "kernelspec": {
            "display_name": "Python 2 with Spark 2.0", 
            "language": "python", 
            "name": "python2-spark20"
        }
    }, 
    "cells": [
        {
            "metadata": {}, 
            "cell_type": "code", 
            "outputs": [
                {
                    "output_type": "stream", 
                    "text": "Requirement already satisfied: xlrd in /gpfs/global_fs01/sym_shared/YPProdSpark/user/s1df-1767d8774d3251-73caa6cfaa60/.local/lib/python2.7/site-packages\r\n", 
                    "name": "stdout"
                }
            ], 
            "execution_count": 1, 
            "source": "!pip install --user xlrd"
        }, 
        {
            "metadata": {
                "collapsed": true
            }, 
            "cell_type": "code", 
            "outputs": [], 
            "execution_count": 9, 
            "source": "# Setup constants if any\n# FUNDS ID\nFUNDS_ID_LIST = ['I-CJF','I-RLLAF','I-WUSIGX','I-AQUA','I-SQGFS','I-SQGFSH2','I-SQGFSH2O', 'I-SQGFSO', 'I-WEUBEAR', 'I-WEUBULL', 'I-WGEBEAR', 'I-WGEBULL', 'I-WGEF', 'I-WUEBEAR', 'I-WUEBULL', 'I-WUSBEAR', 'I-WUSBULL']\n"
        }, 
        {
            "metadata": {
                "collapsed": true
            }, 
            "cell_type": "code", 
            "outputs": [], 
            "execution_count": 2, 
            "source": "import pandas as pd\nfrom io import BytesIO\nimport requests\nimport json\nimport xlrd \n\nfrom pyspark.sql.functions import *\nfrom pyspark.sql.types import *\n\nfrom datetime import datetime\nfrom dateutil.parser import parse\n\nfrom ingest.Connectors import Connectors"
        }, 
        {
            "metadata": {
                "collapsed": true
            }, 
            "cell_type": "code", 
            "outputs": [], 
            "execution_count": 3, 
            "source": "# The code was removed by DSX for sharing."
        }, 
        {
            "metadata": {
                "collapsed": true
            }, 
            "cell_type": "code", 
            "outputs": [], 
            "execution_count": 22, 
            "source": "# The code was removed by DSX for sharing."
        }, 
        {
            "metadata": {}, 
            "cell_type": "code", 
            "outputs": [
                {
                    "output_type": "stream", 
                    "text": "                                                             Unnamed: 1\nView Positions                                                         \nFund/Group:                                                   I-MAI-ALL\nSecurity Group/Type:  FUTURE/*,FUTURE/CFD,FUTURE/COM,FUTURE/CUR,FUTU...\nAs Of Date:                                                 31-JUL-2017\nPrice Group:                                                        NAV\nRisk Group:                                                        RISK\n\nasOfDate = 2017-07-31\n", 
                    "name": "stdout"
                }
            ], 
            "execution_count": 6, 
            "source": "\naladdinFuturePosDF1 = pd.read_excel(getFileFromObjectStorage('MizuhoPOC', 'ALADDIN-FUT-POS.xlsx'),index_col=[0], header=[0]).iloc[0:7]\n# Drop rows & columns with all 'NaN' values, axis 0 is for row\naladdinFuturePosDFFiltered1 = aladdinFuturePosDF1.dropna(axis=[0,1], how='all')\nprint aladdinFuturePosDFFiltered1\n\nasOfDate = pd.to_datetime(aladdinFuturePosDFFiltered1.loc['As Of Date:', 'Unnamed: 1']).strftime('%Y-%m-%d')\n\nprint \"\\nasOfDate = \" + asOfDate"
        }, 
        {
            "metadata": {
                "scrolled": true
            }, 
            "cell_type": "code", 
            "outputs": [
                {
                    "metadata": {}, 
                    "execution_count": 14, 
                    "data": {
                        "text/plain": "FUND_ID              object\nREUTER               object\nCUSIP                object\nSEC_DESC             object\nORIG_FACE           float64\nCURR_FACE           float64\nCURRENCY             object\nUNSETTLED           float64\nMKT_PRICE           float64\nCOUNTER_PRTY_TIC     object\ndtype: object"
                    }, 
                    "output_type": "execute_result"
                }
            ], 
            "execution_count": 14, 
            "source": "aladdinFuturePosDF2 = pd.read_excel(getFileFromObjectStorage('MizuhoPOC', 'ALADDIN-FUT-POS.xlsx'), header=[0], skipinitialspace=True, skiprows=8, index_col=[0])\n\n#index_col=[0,1]\n# Drop rows & columns with all 'NaN' values, axis 0 is for row\naladdinFuturePosDF2FilterNullRowsCols = aladdinFuturePosDF2.dropna(axis=[0,1], how='all')\n\ndfNewArr = []\nfor id in FUNDS_ID_LIST:    \n    df = aladdinFuturePosDF2FilterNullRowsCols.loc[id].iloc[1:]\n    dfNewArr.append(df)\n\n# Concat all the funds together    \ndfNew=pd.concat(dfNewArr)\n\n# Flatten the list by removing all the index\ndfNew = dfNew.reset_index()\n\n# Rename column to match database columns\naladdinFuturePosDF2Renamed = \\\n    dfNew.rename(index=str, \n                 columns={\"Portfolio\": \"FUND_ID\", \n                          \"Reuter\": \"REUTER\" ,\n                          \"CUSIP(Aladdin ID)\": \"CUSIP\", \n                          \"Sec Desc\": \"SEC_DESC\",\n                          \"Orig. Face\": \"ORIG_FACE\", \n                          \"Current Face\": \"CURR_FACE\", \n                          \"Currency\": \"CURRENCY\",\n                          \"Unsettled\": \"UNSETTLED\",\n                          \"Market Price\": \"MKT_PRICE\",\n                          \"Counterparty Ticker\": \"COUNTER_PRTY_TIC\"                          \n                         })\\\n\n# Convert to float. TODO - Should everything be String as CSV files data is inconsistent    \naladdinFuturePosDF2Renamed[['ORIG_FACE', 'CURR_FACE', 'UNSETTLED', 'MKT_PRICE']]  \\\n= aladdinFuturePosDF2Renamed[['ORIG_FACE', 'CURR_FACE', 'UNSETTLED', 'MKT_PRICE']].astype(float)    \n\n#aladdinFuturePosDF2Renamed.head(146)\naladdinFuturePosDF2Renamed.dtypes\n"
        }, 
        {
            "metadata": {}, 
            "cell_type": "code", 
            "outputs": [
                {
                    "output_type": "stream", 
                    "text": "root\n |-- FUND_ID: string (nullable = false)\n |-- REUTER: string (nullable = false)\n |-- CUSIP: string (nullable = false)\n |-- SEC_DESC: string (nullable = true)\n |-- ORIG_FACE: double (nullable = true)\n |-- CURR_FACE: double (nullable = true)\n |-- CURRENCY: string (nullable = false)\n |-- UNSETTLED: double (nullable = true)\n |-- MKT_PRICE: double (nullable = true)\n |-- COUNTER_PRTY_TIC: string (nullable = true)\n |-- AS_OF_DATE: date (nullable = true)\n\n", 
                    "name": "stdout"
                }, 
                {
                    "metadata": {}, 
                    "execution_count": 15, 
                    "data": {
                        "text/plain": "[Row(FUND_ID=u'I-CJF', REUTER=u'ADU7', CUSIP=u'ADU720175', SEC_DESC=u'AUD/USD FUTURE (CME) SEP 17', ORIG_FACE=37.0, CURR_FACE=37.0, CURRENCY=u'USD', UNSETTLED=-12.0, MKT_PRICE=0.7994, COUNTER_PRTY_TIC=u'MS-I', AS_OF_DATE=datetime.date(2017, 7, 31))]"
                    }, 
                    "output_type": "execute_result"
                }
            ], 
            "execution_count": 15, 
            "source": "spark = SparkSession.builder.getOrCreate()  \n\ndef build_schema():\n    \"\"\"Build and return a schema to use for the sample data.\"\"\"\n    schema = StructType(\n        [            \n            StructField(\"FUND_ID\", StringType(), False),\n            StructField(\"REUTER\", StringType(), False),            \n            StructField(\"CUSIP\", StringType(), False),\n            StructField(\"SEC_DESC\", StringType(), True),\n            StructField(\"ORIG_FACE\", DoubleType(), True),\n            StructField(\"CURR_FACE\", DoubleType(), True),\n            StructField(\"CURRENCY\", StringType(), False),\n            StructField(\"UNSETTLED\", DoubleType(), True), \n            StructField(\"MKT_PRICE\", DoubleType(), True),         \n            StructField(\"COUNTER_PRTY_TIC\", StringType(), True)                   \n        ]\n    )\n    return schema\n\n\naladdinFuturePosDF2SparkDF = spark.createDataFrame(aladdinFuturePosDF2Renamed, schema=build_schema()) \\\n                                .withColumn(\"AS_OF_DATE\", lit(asOfDate).cast(\"date\"))\n\n\naladdinFuturePosDF2SparkDF.printSchema()\naladdinFuturePosDF2SparkDF.head(1)\n"
        }, 
        {
            "metadata": {}, 
            "cell_type": "code", 
            "outputs": [
                {
                    "output_type": "stream", 
                    "text": "root\n |-- ID: string (nullable = false)\n\n+-----+\n|   ID|\n+-----+\n|I-CJF|\n+-----+\nonly showing top 1 row\n\n", 
                    "name": "stdout"
                }
            ], 
            "execution_count": 16, 
            "source": "dashDBloadOptions = { \n                    Connectors.DASHDB.HOST              : dashCredentials[\"host\"],\n                    Connectors.DASHDB.DATABASE          : dashCredentials[\"db\"],\n                    Connectors.DASHDB.USERNAME          : dashCredentials[\"username\"],\n                    Connectors.DASHDB.PASSWORD          : dashCredentials[\"password\"],\n                    Connectors.DASHDB.SOURCE_TABLE_NAME : dashCredentials[\"REF_FUND_TABLE\"],\n}\n\nrefFundDF = sqlContext.read.format(\"com.ibm.spark.discover\").options(**dashDBloadOptions).load()\nrefFundDF.printSchema()\nrefFundDF.show(1)"
        }, 
        {
            "metadata": {}, 
            "cell_type": "code", 
            "outputs": [
                {
                    "output_type": "stream", 
                    "text": "+-------+------+---------+--------------------+---------+---------+--------+---------+---------+----------------+----------+\n|FUND_ID|REUTER|    CUSIP|            SEC_DESC|ORIG_FACE|CURR_FACE|CURRENCY|UNSETTLED|MKT_PRICE|COUNTER_PRTY_TIC|AS_OF_DATE|\n+-------+------+---------+--------------------+---------+---------+--------+---------+---------+----------------+----------+\n| I-WGEF| AEXQ7|EOQ720172|AMSTERDAM INDEX A...|      0.0|      0.0|     EUR|      5.0|    521.9|          NEWE-I|2017-07-31|\n| I-WGEF|  DMU7|FAU720176|S&P MID 400 EMINI...|      3.0|      3.0|     USD|      0.0|   1759.8|          NEWE-I|2017-07-31|\n| I-WGEF|  ESU7|MEU720170| S&P500 EMINI SEP 17|    -12.0|    -12.0|     USD|      4.0|   2468.0|          NEWE-I|2017-07-31|\n| I-WGEF| FCEQ7|CFQ720173|CAC40 10 EURO AUG 17|      8.0|      8.0|     EUR|     -1.0|   5090.0|          NEWE-I|2017-07-31|\n| I-WGEF| FDXU7|GXU720175|    DAX INDEX SEP 17|      1.0|      1.0|     EUR|     -1.0|  12109.5|          NEWE-I|2017-07-31|\n| I-WGEF| FFIU7|ZU7201771|FTSE 100 INDEX SE...|     12.0|     12.0|     GBP|      8.0|   7310.0|          NEWE-I|2017-07-31|\n| I-WGEF| FVSU7|FVSU72017|VSTOXX MINI FUTUR...|    -33.0|    -33.0|     EUR|     -5.0|    15.75|          NEWE-I|2017-07-31|\n| I-WGEF| HSIQ7|HIQ720172|HANG SENG INDEX A...|     -1.0|     -1.0|     HKD|     -2.0|  27228.0|          NEWE-I|2017-07-31|\n| I-WGEF| IFSU7|STU720171|FTSE/MIB INDEX SE...|     -1.0|     -1.0|     EUR|      2.0|  21480.0|          NEWE-I|2017-07-31|\n| I-WGEF| JNIU7|NKU720175|NIKKEI 225 (OSE) ...|      5.0|      5.0|     JPY|     -1.0|  19940.0|          NEWE-I|2017-07-31|\n+-------+------+---------+--------------------+---------+---------+--------+---------+---------+----------------+----------+\nonly showing top 10 rows\n\n", 
                    "name": "stdout"
                }
            ], 
            "execution_count": 21, 
            "source": "aladdinFuturePosJoinSparkDF = aladdinFuturePosDF2SparkDF.join(refFundDF, \n                                               aladdinFuturePosDF2SparkDF.FUND_ID == refFundDF.ID, \"inner\")\\\n                                        .select(\n                                            refFundDF.ID.alias(\"FUND_ID\"),                                                \n                                            aladdinFuturePosDF2SparkDF.REUTER,\n                                            aladdinFuturePosDF2SparkDF.CUSIP,\n                                            aladdinFuturePosDF2SparkDF.SEC_DESC,\n                                            aladdinFuturePosDF2SparkDF.ORIG_FACE,\n                                            aladdinFuturePosDF2SparkDF.CURR_FACE,\n                                            aladdinFuturePosDF2SparkDF.CURRENCY,\n                                            aladdinFuturePosDF2SparkDF.UNSETTLED,\n                                            aladdinFuturePosDF2SparkDF.MKT_PRICE,\n                                            aladdinFuturePosDF2SparkDF.COUNTER_PRTY_TIC,\n                                            aladdinFuturePosDF2SparkDF.AS_OF_DATE\n                                            )\n\naladdinFuturePosJoinSparkDF.show(10)"
        }, 
        {
            "metadata": {
                "collapsed": true
            }, 
            "cell_type": "code", 
            "outputs": [], 
            "execution_count": 23, 
            "source": "\n\n# Connection to Dash DB for writing the data\ndashdbsaveoption = {\n                     Connectors.DASHDB.HOST              : dashCredentials[\"host\"],\n                     Connectors.DASHDB.DATABASE          : dashCredentials[\"db\"],\n                     Connectors.DASHDB.USERNAME          : dashCredentials[\"username\"],\n                     Connectors.DASHDB.PASSWORD          : dashCredentials[\"password\"],\n                     Connectors.DASHDB.TARGET_TABLE_NAME : dashCredentials[\"tableName\"],\n                     Connectors.DASHDB.TARGET_WRITE_MODE : 'merge' \n}\n\naladdinFuturePosDashDBDF = aladdinFuturePosJoinSparkDF.write.format(\"com.ibm.spark.discover\").options(**dashdbsaveoption).save()\n"
        }, 
        {
            "metadata": {
                "collapsed": true
            }, 
            "cell_type": "code", 
            "outputs": [], 
            "execution_count": null, 
            "source": ""
        }
    ], 
    "nbformat": 4, 
    "nbformat_minor": 1
}