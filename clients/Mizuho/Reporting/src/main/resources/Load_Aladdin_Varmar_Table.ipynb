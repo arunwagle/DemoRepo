{
    "metadata": {
        "language_info": {
            "file_extension": ".py", 
            "mimetype": "text/x-python", 
            "nbconvert_exporter": "python", 
            "pygments_lexer": "ipython2", 
            "name": "python", 
            "codemirror_mode": {
                "version": 2, 
                "name": "ipython"
            }, 
            "version": "2.7.11"
        }, 
        "kernelspec": {
            "display_name": "Python 2 with Spark 2.0", 
            "language": "python", 
            "name": "python2-spark20"
        }
    }, 
    "cells": [
        {
            "metadata": {}, 
            "cell_type": "code", 
            "outputs": [
                {
                    "output_type": "stream", 
                    "text": "Requirement already satisfied: xlrd in /gpfs/global_fs01/sym_shared/YPProdSpark/user/s1df-1767d8774d3251-73caa6cfaa60/.local/lib/python2.7/site-packages\r\n", 
                    "name": "stdout"
                }
            ], 
            "execution_count": 58, 
            "source": "!pip install --user xlrd"
        }, 
        {
            "metadata": {
                "collapsed": true
            }, 
            "cell_type": "code", 
            "outputs": [], 
            "execution_count": 59, 
            "source": "# Setup constants if any\n\n\n"
        }, 
        {
            "metadata": {
                "collapsed": true
            }, 
            "cell_type": "code", 
            "outputs": [], 
            "execution_count": 60, 
            "source": "import pandas as pd\nfrom io import BytesIO\nimport requests\nimport json\nimport xlrd \n\nfrom pyspark.sql.functions import *\nfrom pyspark.sql.types import *\n\nfrom datetime import datetime\nfrom dateutil.parser import parse\n\nfrom ingest.Connectors import Connectors"
        }, 
        {
            "metadata": {
                "collapsed": true
            }, 
            "cell_type": "code", 
            "outputs": [], 
            "execution_count": 61, 
            "source": "# The code was removed by DSX for sharing."
        }, 
        {
            "metadata": {
                "collapsed": true
            }, 
            "cell_type": "code", 
            "outputs": [], 
            "execution_count": 62, 
            "source": "# The code was removed by DSX for sharing."
        }, 
        {
            "metadata": {}, 
            "cell_type": "code", 
            "outputs": [
                {
                    "output_type": "stream", 
                    "text": "                       Unnamed: 1 Unnamed: 2 Unnamed: 3 Unnamed: 4 Unnamed: 5  \\\nView Positions                                                                  \nFund/Group:             I-MAI-ALL        NaN        NaN        NaN        NaN   \nSecurity Group/Type:    CASH/CASH        NaN        NaN        NaN        NaN   \nAs Of Date:           31-JUL-2017        NaN        NaN        NaN        NaN   \nPrice Group:                  NAV        NaN        NaN        NaN        NaN   \nRisk Group:                  RISK        NaN        NaN        NaN        NaN   \nRisk Group:                   NaN        NaN        NaN        NaN        NaN   \n99 matches found              NaN        NaN        NaN        NaN        NaN   \n\n                     Unnamed: 6 Unnamed: 7 Unnamed: 8  \nView Positions                                         \nFund/Group:                 NaN        NaN        NaN  \nSecurity Group/Type:        NaN        NaN        NaN  \nAs Of Date:                 NaN        NaN        NaN  \nPrice Group:                NaN        NaN        NaN  \nRisk Group:                 NaN        NaN        NaN  \nRisk Group:                 NaN        NaN        NaN  \n99 matches found            NaN        NaN        NaN  \n\nasOfDate = 2017-07-31\n", 
                    "name": "stdout"
                }
            ], 
            "execution_count": 63, 
            "source": "\naladdinVarmarDF1 = pd.read_excel(getFileFromObjectStorage('MizuhoPOC', 'ALADDIN-VARMAR.xlsx'),index_col=[0], header=[0]).iloc[0:7]\n# Drop rows & columns with all 'NaN' values, axis 0 is for row\naladdinVarmarDFFiltered1 = aladdinVarmarDF1.dropna(axis=[0,1], how='all')\nprint aladdinVarmarDF1\n\n#asOfDate = pd.to_datetime(aladdinVarmarDFFiltered1.loc['As Of Date:', 'Unnamed: 1']).strftime('%m/%d/%Y')\n\nasOfDate = pd.to_datetime(aladdinVarmarDFFiltered1.loc['As Of Date:', 'Unnamed: 1']).strftime('%Y-%m-%d')\n\nprint \"\\nasOfDate = \" + asOfDate"
        }, 
        {
            "metadata": {
                "scrolled": true
            }, 
            "cell_type": "code", 
            "outputs": [
                {
                    "metadata": {}, 
                    "execution_count": 64, 
                    "data": {
                        "text/plain": "FUND_ID          object\nCUSIP            object\nSEC_DESC         object\nCURRENCY         object\nCURRENT_FACE    float64\nSETTLED         float64\nUNSETTLED       float64\nFX_RATE         float64\ndtype: object"
                    }, 
                    "output_type": "execute_result"
                }
            ], 
            "execution_count": 64, 
            "source": "aladdinVarmarDF2 = pd.read_excel(getFileFromObjectStorage('MizuhoPOC', 'ALADDIN-VARMAR.xlsx'), header=[0], skipinitialspace=True, skiprows=8)\n\n#index_col=[0,1]\n# Drop rows & columns with all 'NaN' values, axis 0 is for row\naladdinVarmarDF2FilterNullRowsCols = aladdinVarmarDF2.dropna(axis=[0,1], how='all')\naladdinVarmarDF2FilterNullRowsCols = aladdinVarmarDF2FilterNullRowsCols.rename(index=str, columns={\"Portfolio\": \"FUND_ID\", \"CUSIP(Aladdin ID)\": \"CUSIP\", \"Sec Desc\": \"SEC_DESC\",\"Currency\": \"CURRENCY\",\"Current Face\": \"CURRENT_FACE\",\"Settled\": \"SETTLED\",\"Unsettled\": \"UNSETTLED\", \"Base Curr FX Rate\": \"FX_RATE\"})\n\n## patern matching if ALADDIN_ID matches '(any value between braces)', this is an aggregate row, don't store it in the database\npatternDelete='\\(*\\)$'\nfilter = aladdinVarmarDF2FilterNullRowsCols['CUSIP'].str.contains(patternDelete)\n\naladdinVarmarDF2FilterByPatternDelete = aladdinVarmarDF2FilterNullRowsCols[~filter]\n\n#mhcbDFFilterByICJF = mhcbDFFilterNullRowsCols[mhcbDFFilterNullRowsCols.PORTFOLIO == 'I-CJF']\n# aladdinVarmarDF2FilterByPatternDelete.head(20)\naladdinVarmarDF2FilterByPatternDelete.dtypes\n\n# for idx in mhcbDFFilterNullRowsCols.index.map(lambda x: x[:-1]):\n#     print idx\n#     df_select=mhcbDFFilterNullRowsCols.ix[idx]\n#     print df_select\n"
        }, 
        {
            "metadata": {}, 
            "cell_type": "code", 
            "outputs": [
                {
                    "output_type": "stream", 
                    "text": "root\n |-- FUND_ID: string (nullable = false)\n |-- CUSIP: string (nullable = true)\n |-- SEC_DESC: string (nullable = true)\n |-- CURRENCY: string (nullable = true)\n |-- CURRENT_FACE: double (nullable = true)\n |-- SETTLED: double (nullable = true)\n |-- UNSETTLED: double (nullable = true)\n |-- FX_RATE: double (nullable = true)\n |-- AS_OF_DATE: date (nullable = true)\n\n", 
                    "name": "stdout"
                }, 
                {
                    "metadata": {}, 
                    "execution_count": 65, 
                    "data": {
                        "text/plain": "[Row(FUND_ID=u'I-AQUA', CUSIP=u'MARNEAUD7', SEC_DESC=u'FUTURES AUD MARGIN BALANCE NEWEDGE', CURRENCY=u'AUD', CURRENT_FACE=-15541.65, SETTLED=-15541.65, UNSETTLED=0.0, FX_RATE=0.7984, AS_OF_DATE=datetime.date(2017, 7, 31)),\n Row(FUND_ID=u'I-AQUA', CUSIP=u'MARNECAD5', SEC_DESC=u'FUTURES CAD MARGIN BALANCE NEWEDGE', CURRENCY=u'CAD', CURRENT_FACE=-34575.85, SETTLED=-34575.85, UNSETTLED=0.0, FX_RATE=0.7996, AS_OF_DATE=datetime.date(2017, 7, 31)),\n Row(FUND_ID=u'I-AQUA', CUSIP=u'MARNEEUR8', SEC_DESC=u'FUTURES EUR MARGIN BALANCE NEWEDGE', CURRENCY=u'EUR', CURRENT_FACE=-42216.08, SETTLED=-42216.08, UNSETTLED=0.0, FX_RATE=1.179, AS_OF_DATE=datetime.date(2017, 7, 31)),\n Row(FUND_ID=u'I-AQUA', CUSIP=u'MARNEGBP8', SEC_DESC=u'FUTURES GBP MARGIN BALANCE NEWEDGE', CURRENCY=u'GBP', CURRENT_FACE=4709.37, SETTLED=4709.37, UNSETTLED=0.0, FX_RATE=1.3183, AS_OF_DATE=datetime.date(2017, 7, 31)),\n Row(FUND_ID=u'I-AQUA', CUSIP=u'MARNEHKD3', SEC_DESC=u'FUTURES HKD MARGIN BALANCE NEWEDGE', CURRENCY=u'HKD', CURRENT_FACE=-97645.86, SETTLED=-97645.86, UNSETTLED=0.0, FX_RATE=0.128, AS_OF_DATE=datetime.date(2017, 7, 31)),\n Row(FUND_ID=u'I-AQUA', CUSIP=u'MARNEJPY8', SEC_DESC=u'FUTURES JPY MARGIN BALANCE NEWEDGE', CURRENCY=u'JPY', CURRENT_FACE=-8652049.0, SETTLED=-8652049.0, UNSETTLED=0.0, FX_RATE=0.0091, AS_OF_DATE=datetime.date(2017, 7, 31)),\n Row(FUND_ID=u'I-AQUA', CUSIP=u'MARNESEK0', SEC_DESC=u'FUTURES SEK MARGIN BALANCE NEWEDGE', CURRENCY=u'SEK', CURRENT_FACE=-319333.1, SETTLED=-319333.1, UNSETTLED=0.0, FX_RATE=0.1236, AS_OF_DATE=datetime.date(2017, 7, 31)),\n Row(FUND_ID=u'I-AQUA', CUSIP=u'MARNESGD4', SEC_DESC=u'FUTURES SGD MARGIN BALANCE NEWEDGE', CURRENCY=u'SGD', CURRENT_FACE=-2850.45, SETTLED=-2850.45, UNSETTLED=0.0, FX_RATE=0.7368, AS_OF_DATE=datetime.date(2017, 7, 31)),\n Row(FUND_ID=u'I-AQUA', CUSIP=u'MARNEUSD6', SEC_DESC=u'FUTURES USD MARGIN BALANCE NEWEDGE', CURRENCY=u'USD', CURRENT_FACE=-1122598.72, SETTLED=-1122598.72, UNSETTLED=0.0, FX_RATE=1.0, AS_OF_DATE=datetime.date(2017, 7, 31)),\n Row(FUND_ID=u'I-CGF', CUSIP=u'MARBAUSD6', SEC_DESC=u'FUTURES USD MARGIN BALANCE BARCLAY', CURRENCY=u'USD', CURRENT_FACE=0.0, SETTLED=0.0, UNSETTLED=0.0, FX_RATE=1.0, AS_OF_DATE=datetime.date(2017, 7, 31))]"
                    }, 
                    "output_type": "execute_result"
                }
            ], 
            "execution_count": 65, 
            "source": "spark = SparkSession.builder.getOrCreate()  \n\ndef build_schema():\n    \"\"\"Build and return a schema to use for the sample data.\"\"\"\n    schema = StructType(\n        [            \n            StructField(\"FUND_ID\",  StringType(), False),\n            StructField(\"CUSIP\", StringType(), True),\n            StructField(\"SEC_DESC\", StringType(), True),\n            StructField(\"CURRENCY\", StringType(), True),            \n            StructField(\"CURRENT_FACE\", DoubleType(), True),\n            StructField(\"SETTLED\", DoubleType(), True),\n            StructField(\"UNSETTLED\", DoubleType(), True),\n            StructField(\"FX_RATE\", DoubleType(), True),                        \n        ]\n    )\n    return schema\n\n\naladdinVarmarDF2SparkDF = spark.createDataFrame(aladdinVarmarDF2FilterByPatternDelete, schema=build_schema()) \\\n                                .withColumn(\"AS_OF_DATE\", lit(asOfDate).cast(\"date\"))\n\n\naladdinVarmarDF2SparkDF.printSchema()\naladdinVarmarDF2SparkDF.head(10)\n"
        }, 
        {
            "metadata": {}, 
            "cell_type": "code", 
            "outputs": [
                {
                    "output_type": "stream", 
                    "text": "root\n |-- ID: string (nullable = false)\n\n+-----+\n|   ID|\n+-----+\n|I-CJF|\n+-----+\nonly showing top 1 row\n\n", 
                    "name": "stdout"
                }
            ], 
            "execution_count": 66, 
            "source": "dashDBloadOptions = { \n                    Connectors.DASHDB.HOST              : dashCredentials[\"host\"],\n                    Connectors.DASHDB.DATABASE          : dashCredentials[\"db\"],\n                    Connectors.DASHDB.USERNAME          : dashCredentials[\"username\"],\n                    Connectors.DASHDB.PASSWORD          : dashCredentials[\"password\"],\n                    Connectors.DASHDB.SOURCE_TABLE_NAME : dashCredentials[\"REF_FUND_TABLE\"],\n}\n\nrefFundDF = sqlContext.read.format(\"com.ibm.spark.discover\").options(**dashDBloadOptions).load()\nrefFundDF.printSchema()\nrefFundDF.show(1)"
        }, 
        {
            "metadata": {}, 
            "cell_type": "code", 
            "outputs": [
                {
                    "output_type": "stream", 
                    "text": "+-------+---------+--------------------+--------+------------+-------+---------+-------+----------+\n|FUND_ID|    CUSIP|            SEC_DESC|CURRENCY|CURRENT_FACE|SETTLED|UNSETTLED|FX_RATE|AS_OF_DATE|\n+-------+---------+--------------------+--------+------------+-------+---------+-------+----------+\n| I-WGEF|MARNEAUD7|FUTURES AUD MARGI...|     AUD|       126.9|  126.9|      0.0| 0.7984|2017-07-31|\n+-------+---------+--------------------+--------+------------+-------+---------+-------+----------+\nonly showing top 1 row\n\n", 
                    "name": "stdout"
                }
            ], 
            "execution_count": 67, 
            "source": "aladdinVarmarJoinSparkDF = aladdinVarmarDF2SparkDF.join(refFundDF, \n                                               aladdinVarmarDF2SparkDF.FUND_ID == refFundDF.ID, \"inner\")\\\n                                        .select(\n                                                refFundDF.ID.alias(\"FUND_ID\"),                                                \n                                                aladdinVarmarDF2SparkDF.CUSIP,\n                                                aladdinVarmarDF2SparkDF.SEC_DESC,\n                                                aladdinVarmarDF2SparkDF.CURRENCY,\n                                                aladdinVarmarDF2SparkDF.CURRENT_FACE,\n                                                aladdinVarmarDF2SparkDF.SETTLED,\n                                                aladdinVarmarDF2SparkDF.UNSETTLED,\n                                                aladdinVarmarDF2SparkDF.FX_RATE,\n                                                aladdinVarmarDF2SparkDF.AS_OF_DATE\n                                               )\n\naladdinVarmarJoinSparkDF.show(1)"
        }, 
        {
            "metadata": {
                "collapsed": true
            }, 
            "cell_type": "code", 
            "outputs": [], 
            "execution_count": 68, 
            "source": "\n\n# Connection to Dash DB for writing the data\ndashdbsaveoption = {\n                     Connectors.DASHDB.HOST              : dashCredentials[\"host\"],\n                     Connectors.DASHDB.DATABASE          : dashCredentials[\"db\"],\n                     Connectors.DASHDB.USERNAME          : dashCredentials[\"username\"],\n                     Connectors.DASHDB.PASSWORD          : dashCredentials[\"password\"],\n                     Connectors.DASHDB.TARGET_TABLE_NAME : dashCredentials[\"tableName\"],\n                     Connectors.DASHDB.TARGET_WRITE_MODE : 'merge' \n}\n\nmhcbDashDBDF = aladdinVarmarJoinSparkDF.write.format(\"com.ibm.spark.discover\").options(**dashdbsaveoption).save()\n"
        }
    ], 
    "nbformat": 4, 
    "nbformat_minor": 1
}