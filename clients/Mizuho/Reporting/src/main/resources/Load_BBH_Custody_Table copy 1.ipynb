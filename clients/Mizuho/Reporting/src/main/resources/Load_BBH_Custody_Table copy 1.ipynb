{
    "metadata": {
        "language_info": {
            "file_extension": ".py", 
            "mimetype": "text/x-python", 
            "nbconvert_exporter": "python", 
            "pygments_lexer": "ipython2", 
            "name": "python", 
            "codemirror_mode": {
                "version": 2, 
                "name": "ipython"
            }, 
            "version": "2.7.11"
        }, 
        "kernelspec": {
            "display_name": "Python 2 with Spark 2.0", 
            "language": "python", 
            "name": "python2-spark20"
        }
    }, 
    "cells": [
        {
            "metadata": {}, 
            "cell_type": "code", 
            "outputs": [
                {
                    "output_type": "stream", 
                    "text": "Requirement already satisfied: xlrd in /gpfs/global_fs01/sym_shared/YPProdSpark/user/s1df-1767d8774d3251-73caa6cfaa60/.local/lib/python2.7/site-packages\r\n", 
                    "name": "stdout"
                }
            ], 
            "execution_count": 1, 
            "source": "!pip install --user xlrd"
        }, 
        {
            "metadata": {
                "collapsed": true
            }, 
            "cell_type": "code", 
            "outputs": [], 
            "execution_count": 2, 
            "source": "# Setup constants if any\nOBJECT_STORAGE_FOLDER = 'MizuhoPOC'\nINPUT_FILE_NAME = 'BBH - Custody.xlsx'\nTABLE_NAME = 'BBH_CUSTODY'\nREF_FUND_MAPPING_TABLE = 'REF_FUND_MAPPING' \n\n"
        }, 
        {
            "metadata": {
                "collapsed": true
            }, 
            "cell_type": "code", 
            "outputs": [], 
            "execution_count": 3, 
            "source": "# ALL IMPORTS SHOULD GO HERE\n\nimport pandas as pd\nfrom io import BytesIO\nimport requests\nimport json\nimport xlrd \n\nfrom pyspark.sql.functions import *\nfrom pyspark.sql.types import *\n\nfrom datetime import datetime\nfrom dateutil.parser import parse\n\nfrom ingest.Connectors import Connectors"
        }, 
        {
            "metadata": {
                "collapsed": true
            }, 
            "cell_type": "code", 
            "outputs": [], 
            "execution_count": 4, 
            "source": "# The code was removed by DSX for sharing."
        }, 
        {
            "metadata": {
                "collapsed": true
            }, 
            "cell_type": "code", 
            "outputs": [], 
            "execution_count": 5, 
            "source": "# The code was removed by DSX for sharing."
        }, 
        {
            "metadata": {
                "collapsed": true
            }, 
            "cell_type": "code", 
            "outputs": [], 
            "execution_count": null, 
            "source": "# The code was removed by DSX for sharing."
        }, 
        {
            "metadata": {
                "scrolled": false
            }, 
            "cell_type": "code", 
            "outputs": [
                {
                    "output_type": "stream", 
                    "text": "\nasOfDate = 2017-09-27\n", 
                    "name": "stdout"
                }
            ], 
            "execution_count": 20, 
            "source": "\nbbhCustodyDF = pd.read_excel(getFileFromObjectStorage(OBJECT_STORAGE_FOLDER, INPUT_FILE_NAME),header=[0])\n\n# Drop rows & columns with all 'NaN' values, axis 0 is for row\nbbhCustodyFilteredDF = bbhCustodyDF.fillna('')\n#dropna(axis=[0,1], how='all')\n\nbbhCustodyRenamedDF = bbhCustodyFilteredDF.rename(index=str, columns={\"Account Number\": \"ACCT_NUM\", \"Account Name\": \"FUND_NAME\",\"Custody Security ID\": \"CUSTODY_SEC_ID\",\"SEDOL\": \"SEDOL\",\"ISIN\": \"ISIN\",\"Security Description\": \"SEC_DESC\", \"Capitalization Description\": \"CAP_DESC\", \"Maturity Date\": \"MATURITY_DATE\", \"Location\": \"LOC\", \"Location Account Name\": \"LOC_ACCT_NAME\", \"Registration Description\": \"REG_DESC\",\"Paydown Factor\": \"PAYDOWN_FACTOR\", \"Current Face Value\": \"CURR_FACE_VAL\", \"Custody Position\": \"CUSTODY_POS\", \"Total Available Position\": \"TOT_AVAIL_POS\", \"Position Date\": \"POS_DATE\", \"Price Date\": \"PRICE_DATE\", \"Price\": \"PRICE\", \"Pricing Currency\": \"PRICING_CURR\", \"Local Price\": \"LOCAL_PRICE\", \"Local Currency\": \"LOCAL_CURR\", \"FX Rate\": \"FX_RATE\", \"Market Value\": \"MARKET_VAL\", \"Local Market Value\": \"LOCAL_MARKET_VAL\"})\n\n# Convert the datetimeindex object to date\nbbhCustodyRenamedDF['MATURITY_DATE'] = pd.DatetimeIndex(bbhCustodyRenamedDF['MATURITY_DATE']).date\nbbhCustodyRenamedDF['POS_DATE'] = pd.DatetimeIndex(bbhCustodyRenamedDF['POS_DATE']).date\nbbhCustodyRenamedDF['PRICE_DATE'] = pd.DatetimeIndex(bbhCustodyRenamedDF['PRICE_DATE']).date\n\nbbhCustodyRenamedDF[['CUSTODY_POS', 'TOT_AVAIL_POS', 'LOCAL_MARKET_VAL']] = bbhCustodyRenamedDF[['CUSTODY_POS','TOT_AVAIL_POS', 'LOCAL_MARKET_VAL']].astype(float)\n\n\n2018-03-20\nasOfDate = pd.to_datetime('today').strftime('%Y-%m-%d')\n\nprint \"\\nasOfDate = \" + asOfDate\n\n\n# bbhCustodyRenamedDF.head(20)\n# print bbhCustodyRenamedDF.dtypes\n\n"
        }, 
        {
            "metadata": {}, 
            "cell_type": "code", 
            "outputs": [
                {
                    "output_type": "stream", 
                    "text": "root\n |-- ACCT_NUM: integer (nullable = false)\n |-- FUND_NAME: string (nullable = false)\n |-- CUSTODY_SEC_ID: integer (nullable = true)\n |-- SEDOL: string (nullable = true)\n |-- CUSIP: string (nullable = true)\n |-- ISIN: string (nullable = true)\n |-- SEC_DESC: string (nullable = true)\n |-- CAP_DESC: string (nullable = true)\n |-- MATURITY_DATE: date (nullable = true)\n |-- LOC: string (nullable = true)\n |-- LOC_ACCT_NAME: string (nullable = true)\n |-- REG_DESC: string (nullable = true)\n |-- PAYDOWN_FACTOR: string (nullable = true)\n |-- CURR_FACE_VAL: string (nullable = true)\n |-- CUSTODY_POS: double (nullable = true)\n |-- TOT_AVAIL_POS: double (nullable = true)\n |-- POS_DATE: date (nullable = true)\n |-- PRICE_DATE: date (nullable = true)\n |-- PRICE: double (nullable = true)\n |-- PRICING_CURR: string (nullable = true)\n |-- LOCAL_PRICE: double (nullable = true)\n |-- LOCAL_CURR: string (nullable = true)\n |-- FX_RATE: double (nullable = true)\n |-- MARKET_VAL: double (nullable = true)\n |-- LOCAL_MARKET_VAL: double (nullable = true)\n |-- AS_OF_DATE: date (nullable = true)\n\n+--------+------------------+--------------+-------+-----+------------+--------------------+--------+-------------+---+-------------+--------------------+--------------+-------------+-----------+-------------+----------+----------+-----------------+------------+-----------+----------+-------+------------------+----------------+----------+\n|ACCT_NUM|         FUND_NAME|CUSTODY_SEC_ID|  SEDOL|CUSIP|        ISIN|            SEC_DESC|CAP_DESC|MATURITY_DATE|LOC|LOC_ACCT_NAME|            REG_DESC|PAYDOWN_FACTOR|CURR_FACE_VAL|CUSTODY_POS|TOT_AVAIL_POS|  POS_DATE|PRICE_DATE|            PRICE|PRICING_CURR|LOCAL_PRICE|LOCAL_CURR|FX_RATE|        MARKET_VAL|LOCAL_MARKET_VAL|AS_OF_DATE|\n+--------+------------------+--------------+-------+-----+------------+--------------------+--------+-------------+---+-------------+--------------------+--------------+-------------+-----------+-------------+----------+----------+-----------------+------------+-----------+----------+-------+------------------+----------------+----------+\n| 2203719|CRYSTAL JAPAN FUND|        564326|B2RHK74|     |JP1102921853|JAPAN (10 Y 1.7% ...|    DEBT|   2018-03-20| JP|         SMBC|Sec reg in other ...|              |             |      4.0E9|        4.0E9|2017-07-20|2017-07-19|0.905998209489704|         USD|      101.2|       JPY|  111.7|3.62399283795882E7|         4.048E9|2017-09-27|\n+--------+------------------+--------------+-------+-----+------------+--------------------+--------+-------------+---+-------------+--------------------+--------------+-------------+-----------+-------------+----------+----------+-----------------+------------+-----------+----------+-------+------------------+----------------+----------+\n\n", 
                    "name": "stdout"
                }
            ], 
            "execution_count": 21, 
            "source": "spark = SparkSession.builder.getOrCreate()  \n\ndef build_schema():\n    \"\"\"Build and return a schema to use for the sample data.\"\"\"\n    schema = StructType(\n        [\n            StructField(\"ACCT_NUM\", IntegerType(), False),\n            StructField(\"FUND_NAME\",  StringType(), False),\n            StructField(\"CUSTODY_SEC_ID\", IntegerType(), True),\n            StructField(\"SEDOL\", StringType(), True),\n            StructField(\"CUSIP\", StringType(), True),\n            StructField(\"ISIN\", StringType(), True),\n            StructField(\"SEC_DESC\", StringType(), True),\n            StructField(\"CAP_DESC\", StringType(), True),\n            StructField(\"MATURITY_DATE\", DateType(), True),\n            StructField(\"LOC\", StringType(), True),\n            StructField(\"LOC_ACCT_NAME\", StringType(), True),\n            StructField(\"REG_DESC\", StringType(), True),\n            StructField(\"PAYDOWN_FACTOR\", StringType(), True),\n            StructField(\"CURR_FACE_VAL\", StringType(), True),\n            StructField(\"CUSTODY_POS\", DoubleType(), True),\n            StructField(\"TOT_AVAIL_POS\", DoubleType(), True),\n            StructField(\"POS_DATE\", DateType(), True),\n            StructField(\"PRICE_DATE\", DateType(), True),\n            StructField(\"PRICE\", DoubleType(), True),            \n            StructField(\"PRICING_CURR\", StringType(), True),            \n            StructField(\"LOCAL_PRICE\", DoubleType(), True),            \n            StructField(\"LOCAL_CURR\", StringType(), True),                        \n            StructField(\"FX_RATE\", DoubleType(), True),                                    \n            StructField(\"MARKET_VAL\", DoubleType(), True),                                    \n            StructField(\"LOCAL_MARKET_VAL\", DoubleType(), True)\n        ]\n    )\n    return schema\n\n\nbbhCustodySparkDF = spark.createDataFrame(bbhCustodyRenamedDF, schema=build_schema())\\\n                            .withColumn(\"AS_OF_DATE\", lit(asOfDate).cast(\"date\"))\n\nbbhCustodySparkDF.printSchema()\n\nbbhCustodySparkDF.show()\n\n\n"
        }, 
        {
            "metadata": {}, 
            "cell_type": "code", 
            "outputs": [
                {
                    "output_type": "stream", 
                    "text": "root\n |-- ALADDIN_ID: string (nullable = true)\n |-- FUND_NAME: string (nullable = true)\n |-- FUTURES_ACCT_ID: string (nullable = true)\n |-- BTIG_ID: string (nullable = true)\n |-- FUND_ID: string (nullable = true)\n |-- NEWEDGE_ID: string (nullable = true)\n |-- BASE: string (nullable = true)\n |-- BARC_ID: string (nullable = true)\n\n+----------+------------------+---------------+-------+---------+----------+----+-------+\n|ALADDIN_ID|         FUND_NAME|FUTURES_ACCT_ID|BTIG_ID|  FUND_ID|NEWEDGE_ID|BASE|BARC_ID|\n+----------+------------------+---------------+-------+---------+----------+----+-------+\n|     I-CJF|CRYSTAL JAPAN FUND|          C6500|       |I-ASIAPAC|     72590|  JY|  4902C|\n+----------+------------------+---------------+-------+---------+----------+----+-------+\nonly showing top 1 row\n\n", 
                    "name": "stdout"
                }
            ], 
            "execution_count": 25, 
            "source": "dashDBloadOptions = { \n                    Connectors.DASHDB.HOST              : dashCredentials[\"host\"],\n                    Connectors.DASHDB.DATABASE          : dashCredentials[\"db\"],\n                    Connectors.DASHDB.USERNAME          : dashCredentials[\"username\"],\n                    Connectors.DASHDB.PASSWORD          : dashCredentials[\"password\"],\n                    Connectors.DASHDB.SOURCE_TABLE_NAME : dashCredentials[\"REF_FUND_MAPPING_TABLE\"],\n}\n\nrefFundMappingDF = sqlContext.read.format(\"com.ibm.spark.discover\").options(**dashDBloadOptions).load()\nrefFundMappingDF.printSchema()\nrefFundMappingDF.show(1)"
        }, 
        {
            "metadata": {}, 
            "cell_type": "code", 
            "outputs": [
                {
                    "output_type": "stream", 
                    "text": "+--------+------------------+-------+--------------+-------+-----+------------+--------------------+--------+-------------+---+-------------+--------------------+--------------+-------------+-----------+-------------+----------+----------+-----------------+------------+-----------+-------+----------+------------------+----------------+----------+\n|ACCT_NUM|         FUND_NAME|FUND_ID|CUSTODY_SEC_ID|  SEDOL|CUSIP|        ISIN|            SEC_DESC|CAP_DESC|MATURITY_DATE|LOC|LOC_ACCT_NAME|            REG_DESC|PAYDOWN_FACTOR|CURR_FACE_VAL|CUSTODY_POS|TOT_AVAIL_POS|  POS_DATE|PRICE_DATE|            PRICE|PRICING_CURR|LOCAL_PRICE|FX_RATE|LOCAL_CURR|        MARKET_VAL|LOCAL_MARKET_VAL|AS_OF_DATE|\n+--------+------------------+-------+--------------+-------+-----+------------+--------------------+--------+-------------+---+-------------+--------------------+--------------+-------------+-----------+-------------+----------+----------+-----------------+------------+-----------+-------+----------+------------------+----------------+----------+\n| 2203719|CRYSTAL JAPAN FUND|  I-CJF|        564326|B2RHK74|     |JP1102921853|JAPAN (10 Y 1.7% ...|    DEBT|   2018-03-20| JP|         SMBC|Sec reg in other ...|              |             |      4.0E9|        4.0E9|2017-07-20|2017-07-19|0.905998209489704|         USD|      101.2|  111.7|       JPY|3.62399283795882E7|         4.048E9|2017-09-27|\n+--------+------------------+-------+--------------+-------+-----+------------+--------------------+--------+-------------+---+-------------+--------------------+--------------+-------------+-----------+-------------+----------+----------+-----------------+------------+-----------+-------+----------+------------------+----------------+----------+\n\n", 
                    "name": "stdout"
                }
            ], 
            "execution_count": 23, 
            "source": "bbhCustodyJoinSparkDF = bbhCustodySparkDF.join(refFundMappingDF, \n                                               bbhCustodySparkDF.FUND_NAME == refFundMappingDF.FUND_NAME, \"inner\")\\\n                                        .select(bbhCustodySparkDF.ACCT_NUM,bbhCustodySparkDF.FUND_NAME,\n                                                refFundMappingDF.ALADDIN_ID.alias(\"FUND_ID\"),\n                                                bbhCustodySparkDF.CUSTODY_SEC_ID, bbhCustodySparkDF.SEDOL, \n                                                bbhCustodySparkDF.CUSIP, bbhCustodySparkDF.ISIN, \n                                                bbhCustodySparkDF.SEC_DESC, bbhCustodySparkDF.CAP_DESC, \n                                                bbhCustodySparkDF.MATURITY_DATE,bbhCustodySparkDF.LOC,\n                                                bbhCustodySparkDF.LOC_ACCT_NAME, bbhCustodySparkDF.REG_DESC, \n                                                bbhCustodySparkDF.PAYDOWN_FACTOR, bbhCustodySparkDF.CURR_FACE_VAL, \n                                                bbhCustodySparkDF.CUSTODY_POS,bbhCustodySparkDF.TOT_AVAIL_POS, \n                                                bbhCustodySparkDF.POS_DATE, bbhCustodySparkDF.PRICE_DATE, \n                                                bbhCustodySparkDF.PRICE, bbhCustodySparkDF.PRICING_CURR, \n                                                bbhCustodySparkDF.LOCAL_PRICE, bbhCustodySparkDF.FX_RATE, \n                                                bbhCustodySparkDF.LOCAL_CURR,bbhCustodySparkDF.MARKET_VAL, \n                                                bbhCustodySparkDF.LOCAL_MARKET_VAL, bbhCustodySparkDF.AS_OF_DATE\n                                               )\n\nbbhCustodyJoinSparkDF.show(1)\n\n"
        }, 
        {
            "metadata": {}, 
            "cell_type": "code", 
            "outputs": [
                {
                    "output_type": "stream", 
                    "text": "root\n |-- ACCT_NUM: integer (nullable = false)\n |-- FUND_NAME: string (nullable = false)\n |-- FUND_ID: string (nullable = true)\n |-- CUSTODY_SEC_ID: integer (nullable = true)\n |-- SEDOL: string (nullable = true)\n |-- CUSIP: string (nullable = true)\n |-- ISIN: string (nullable = true)\n |-- SEC_DESC: string (nullable = true)\n |-- CAP_DESC: string (nullable = true)\n |-- MATURITY_DATE: date (nullable = true)\n |-- LOC: string (nullable = true)\n |-- LOC_ACCT_NAME: string (nullable = true)\n |-- REG_DESC: string (nullable = true)\n |-- PAYDOWN_FACTOR: string (nullable = true)\n |-- CURR_FACE_VAL: string (nullable = true)\n |-- CUSTODY_POS: double (nullable = true)\n |-- TOT_AVAIL_POS: double (nullable = true)\n |-- POS_DATE: date (nullable = true)\n |-- PRICE_DATE: date (nullable = true)\n |-- PRICE: double (nullable = true)\n |-- PRICING_CURR: string (nullable = true)\n |-- LOCAL_PRICE: double (nullable = true)\n |-- FX_RATE: double (nullable = true)\n |-- LOCAL_CURR: string (nullable = true)\n |-- MARKET_VAL: double (nullable = true)\n |-- LOCAL_MARKET_VAL: double (nullable = true)\n |-- AS_OF_DATE: date (nullable = true)\n\n", 
                    "name": "stdout"
                }
            ], 
            "execution_count": 27, 
            "source": "# Connection to Dash DB for writing the data\ndashdbsaveoption = {\n                     Connectors.DASHDB.HOST              : dashCredentials[\"host\"],\n                     Connectors.DASHDB.DATABASE          : dashCredentials[\"db\"],\n                     Connectors.DASHDB.USERNAME          : dashCredentials[\"username\"],\n                     Connectors.DASHDB.PASSWORD          : dashCredentials[\"password\"],\n                     Connectors.DASHDB.TARGET_TABLE_NAME : dashCredentials[\"tableName\"],\n                     Connectors.DASHDB.TARGET_WRITE_MODE : 'merge' \n}\n\nbbhCustodyJoinSparkDF.printSchema()\n\nsaveDashDBDF = bbhCustodyJoinSparkDF.write.format(\"com.ibm.spark.discover\").options(**dashdbsaveoption).save()"
        }, 
        {
            "metadata": {
                "collapsed": true
            }, 
            "cell_type": "code", 
            "outputs": [], 
            "execution_count": null, 
            "source": ""
        }
    ], 
    "nbformat": 4, 
    "nbformat_minor": 1
}