{
    "metadata": {
        "language_info": {
            "file_extension": ".py", 
            "name": "python", 
            "mimetype": "text/x-python", 
            "nbconvert_exporter": "python", 
            "version": "2.7.11", 
            "codemirror_mode": {
                "name": "ipython", 
                "version": 2
            }, 
            "pygments_lexer": "ipython2"
        }, 
        "kernelspec": {
            "display_name": "Python 2 with Spark 2.0", 
            "name": "python2-spark20", 
            "language": "python"
        }
    }, 
    "nbformat": 4, 
    "cells": [
        {
            "metadata": {}, 
            "source": "!pip install --user xlrd", 
            "execution_count": 40, 
            "cell_type": "code", 
            "outputs": [
                {
                    "name": "stdout", 
                    "output_type": "stream", 
                    "text": "Requirement already satisfied: xlrd in /gpfs/global_fs01/sym_shared/YPProdSpark/user/s1df-1767d8774d3251-73caa6cfaa60/.local/lib/python2.7/site-packages\r\n"
                }
            ]
        }, 
        {
            "metadata": {
                "collapsed": true
            }, 
            "source": "# Setup constants if any\n\n\n", 
            "execution_count": 41, 
            "cell_type": "code", 
            "outputs": []
        }, 
        {
            "metadata": {
                "collapsed": true
            }, 
            "source": "import pandas as pd\nfrom io import BytesIO\nimport requests\nimport json\nimport xlrd \n\nfrom pyspark.sql.functions import *\nfrom pyspark.sql.types import *\n\nfrom datetime import datetime\nfrom dateutil.parser import parse\n\nfrom ingest.Connectors import Connectors", 
            "execution_count": 42, 
            "cell_type": "code", 
            "outputs": []
        }, 
        {
            "metadata": {
                "collapsed": true
            }, 
            "source": "# The code was removed by DSX for sharing.", 
            "execution_count": 43, 
            "cell_type": "code", 
            "outputs": []
        }, 
        {
            "metadata": {
                "collapsed": true
            }, 
            "source": "# The code was removed by DSX for sharing.", 
            "execution_count": 44, 
            "cell_type": "code", 
            "outputs": []
        }, 
        {
            "metadata": {
                "scrolled": true
            }, 
            "source": "\nfundMappingDF = pd.read_excel(getFileFromObjectStorage('MizuhoPOC', 'FundMapping.xlsm'),header=[0])\n\n# Drop rows & columns with all 'NaN' values, axis 0 is for row\nfundMappingFilteredDF = fundMappingDF.dropna(axis=[0,1], how='all').fillna('')\n\nfundMappingRenamedDF = fundMappingFilteredDF.rename(index=str, columns={\"ALADDIN\": \"ALADDIN_ID\", \"Fund Name\": \"FUND_NAME\",\"FUTURES ACCOUNT\": \"FUTURES_ACCT_ID\",\"BTIG\": \"BTIG_ID\",\"FUND\": \"FUND_ID\",\"NEWEDGE\": \"NEWEDGE_ID\", \"BASE\": \"BASE\", \"BARC\": \"BARC_ID\"})\nfundMappingRenamedDF.head(10)\n# print fundMappingRenamedDF.dtypes\n\n", 
            "execution_count": 45, 
            "cell_type": "code", 
            "outputs": [
                {
                    "data": {
                        "text/html": "<div>\n<table border=\"1\" class=\"dataframe\">\n  <thead>\n    <tr style=\"text-align: right;\">\n      <th></th>\n      <th>ALADDIN_ID</th>\n      <th>FUND_NAME</th>\n      <th>FUTURES_ACCT_ID</th>\n      <th>BTIG_ID</th>\n      <th>FUND_ID</th>\n      <th>NEWEDGE_ID</th>\n      <th>BASE</th>\n      <th>BARC_ID</th>\n    </tr>\n  </thead>\n  <tbody>\n    <tr>\n      <th>0</th>\n      <td>I-CJF</td>\n      <td>CRYSTAL JAPAN FUND</td>\n      <td>C6500</td>\n      <td></td>\n      <td>I-ASIAPAC</td>\n      <td>72590</td>\n      <td>JY</td>\n      <td>4902C</td>\n    </tr>\n    <tr>\n      <th>1</th>\n      <td>I-CGF</td>\n      <td></td>\n      <td>RRG99268</td>\n      <td></td>\n      <td>I-ESPER</td>\n      <td>799353</td>\n      <td>JY</td>\n      <td>4903c</td>\n    </tr>\n    <tr>\n      <th>2</th>\n      <td>I-HFR</td>\n      <td></td>\n      <td>12070</td>\n      <td></td>\n      <td>I-SABF1</td>\n      <td>799350</td>\n      <td>US</td>\n      <td>4904C</td>\n    </tr>\n    <tr>\n      <th>3</th>\n      <td>I-HMC</td>\n      <td></td>\n      <td>799271</td>\n      <td></td>\n      <td>I-TRIPRISM</td>\n      <td>775730</td>\n      <td>JY</td>\n      <td>4905C</td>\n    </tr>\n    <tr>\n      <th>4</th>\n      <td>I-SABF1</td>\n      <td></td>\n      <td>RRG99350</td>\n      <td>Sapphire Alternative Beta Fund I</td>\n      <td>I-CGF</td>\n      <td>799268</td>\n      <td>US</td>\n      <td>4901C</td>\n    </tr>\n    <tr>\n      <th>5</th>\n      <td>I-SABF2</td>\n      <td></td>\n      <td>99285</td>\n      <td>Sapphire Alternative Beta Fund II</td>\n      <td>I-CJF</td>\n      <td>789855</td>\n      <td>US</td>\n      <td>4900C</td>\n    </tr>\n    <tr>\n      <th>6</th>\n      <td>I-ESPER</td>\n      <td></td>\n      <td>H2301</td>\n      <td>Esper Alternative Fund</td>\n      <td>I-HFR</td>\n      <td>775780</td>\n      <td>US</td>\n      <td>4907C</td>\n    </tr>\n    <tr>\n      <th>7</th>\n      <td>I-TRIPRISM</td>\n      <td></td>\n      <td>775730</td>\n      <td></td>\n      <td>I-HMC</td>\n      <td>799271</td>\n      <td>US</td>\n      <td>4906C</td>\n    </tr>\n    <tr>\n      <th>8</th>\n      <td>I-ASIAPAC</td>\n      <td></td>\n      <td>72590</td>\n      <td>Asia Pacific Alternative Beta Plus Fund</td>\n      <td>I-ST1</td>\n      <td>C6503</td>\n      <td>US</td>\n      <td></td>\n    </tr>\n    <tr>\n      <th>9</th>\n      <td>MAI Bridge Fund - Discretionary CTA</td>\n      <td></td>\n      <td>C6503</td>\n      <td></td>\n      <td>I-ST2</td>\n      <td>C6503</td>\n      <td>US</td>\n      <td></td>\n    </tr>\n  </tbody>\n</table>\n</div>", 
                        "text/plain": "                            ALADDIN_ID           FUND_NAME FUTURES_ACCT_ID  \\\n0                                I-CJF  CRYSTAL JAPAN FUND           C6500   \n1                                I-CGF                            RRG99268   \n2                                I-HFR                               12070   \n3                                I-HMC                              799271   \n4                              I-SABF1                            RRG99350   \n5                              I-SABF2                               99285   \n6                              I-ESPER                               H2301   \n7                           I-TRIPRISM                              775730   \n8                            I-ASIAPAC                               72590   \n9  MAI Bridge Fund - Discretionary CTA                               C6503   \n\n                                   BTIG_ID     FUND_ID NEWEDGE_ID BASE BARC_ID  \n0                                            I-ASIAPAC      72590   JY   4902C  \n1                                              I-ESPER     799353   JY   4903c  \n2                                              I-SABF1     799350   US   4904C  \n3                                           I-TRIPRISM     775730   JY   4905C  \n4         Sapphire Alternative Beta Fund I       I-CGF     799268   US   4901C  \n5        Sapphire Alternative Beta Fund II       I-CJF     789855   US   4900C  \n6                   Esper Alternative Fund       I-HFR     775780   US   4907C  \n7                                                I-HMC     799271   US   4906C  \n8  Asia Pacific Alternative Beta Plus Fund       I-ST1      C6503   US          \n9                                                I-ST2      C6503   US          "
                    }, 
                    "metadata": {}, 
                    "execution_count": 45, 
                    "output_type": "execute_result"
                }
            ]
        }, 
        {
            "metadata": {}, 
            "source": "spark = SparkSession.builder.getOrCreate()  \n\ndef build_schema():\n    \"\"\"Build and return a schema to use for the sample data.\"\"\"\n    schema = StructType(\n        [\n            StructField(\"ALADDIN_ID\", StringType(), True),\n            StructField(\"FUND_NAME\",  StringType(), True),\n            StructField(\"FUTURES_ACCT_ID\",  StringType(), True),\n            StructField(\"BTIG_ID\", StringType(), True),\n            StructField(\"FUND_ID\", StringType(), True),\n            StructField(\"NEWEDGE_ID\", StringType(), True),\n            StructField(\"BASE\", StringType(), True),\n            StructField(\"BARC_ID\", StringType(), True),\n        ]\n    )\n    return schema\n\n\nfundMappingSparkDF = spark.createDataFrame(fundMappingRenamedDF, schema=build_schema())\n\n\nfundMappingSparkDF.printSchema()\n\n\n# Connection to Dash DB for writing the data\ndashdbsaveoption = {\n                     Connectors.DASHDB.HOST              : dashCredentials[\"host\"],\n                     Connectors.DASHDB.DATABASE          : dashCredentials[\"db\"],\n                     Connectors.DASHDB.USERNAME          : dashCredentials[\"username\"],\n                     Connectors.DASHDB.PASSWORD          : dashCredentials[\"password\"],\n                     Connectors.DASHDB.TARGET_TABLE_NAME : dashCredentials[\"tableName\"],\n                     Connectors.DASHDB.TARGET_WRITE_MODE : 'merge' \n}\n\nfundMappingDashDBDF = fundMappingSparkDF.write.format(\"com.ibm.spark.discover\").options(**dashdbsaveoption).save()\n", 
            "execution_count": 49, 
            "cell_type": "code", 
            "outputs": [
                {
                    "name": "stdout", 
                    "output_type": "stream", 
                    "text": "root\n |-- ALADDIN_ID: string (nullable = true)\n |-- FUND_NAME: string (nullable = true)\n |-- FUTURES_ACCT_ID: string (nullable = true)\n |-- BTIG_ID: string (nullable = true)\n |-- FUND_ID: string (nullable = true)\n |-- NEWEDGE_ID: string (nullable = true)\n |-- BASE: string (nullable = true)\n |-- BARC_ID: string (nullable = true)\n\n"
                }
            ]
        }, 
        {
            "metadata": {
                "collapsed": true
            }, 
            "source": "", 
            "execution_count": null, 
            "cell_type": "code", 
            "outputs": []
        }
    ], 
    "nbformat_minor": 1
}