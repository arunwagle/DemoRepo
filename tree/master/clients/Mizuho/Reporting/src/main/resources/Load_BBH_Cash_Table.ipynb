{
    "metadata": {
        "language_info": {
            "file_extension": ".py", 
            "name": "python", 
            "mimetype": "text/x-python", 
            "nbconvert_exporter": "python", 
            "version": "2.7.11", 
            "codemirror_mode": {
                "name": "ipython", 
                "version": 2
            }, 
            "pygments_lexer": "ipython2"
        }, 
        "kernelspec": {
            "display_name": "Python 2 with Spark 2.0", 
            "name": "python2-spark20", 
            "language": "python"
        }
    }, 
    "nbformat": 4, 
    "cells": [
        {
            "metadata": {}, 
            "source": "!pip install --user xlrd", 
            "execution_count": 25, 
            "cell_type": "code", 
            "outputs": [
                {
                    "name": "stdout", 
                    "output_type": "stream", 
                    "text": "Requirement already satisfied: xlrd in /gpfs/global_fs01/sym_shared/YPProdSpark/user/s1df-1767d8774d3251-73caa6cfaa60/.local/lib/python2.7/site-packages\r\n"
                }
            ]
        }, 
        {
            "metadata": {
                "collapsed": true
            }, 
            "source": "# Setup constants if any\n\n\n", 
            "execution_count": 26, 
            "cell_type": "code", 
            "outputs": []
        }, 
        {
            "metadata": {
                "collapsed": true
            }, 
            "source": "import pandas as pd\nfrom io import BytesIO\nimport requests\nimport json\nimport xlrd \n\nfrom pyspark.sql.functions import *\nfrom pyspark.sql.types import *\n\nfrom datetime import datetime\nfrom dateutil.parser import parse\n\nfrom ingest.Connectors import Connectors", 
            "execution_count": 27, 
            "cell_type": "code", 
            "outputs": []
        }, 
        {
            "metadata": {
                "collapsed": true
            }, 
            "source": "# The code was removed by DSX for sharing.", 
            "execution_count": 28, 
            "cell_type": "code", 
            "outputs": []
        }, 
        {
            "metadata": {
                "collapsed": true
            }, 
            "source": "# The code was removed by DSX for sharing.", 
            "execution_count": 29, 
            "cell_type": "code", 
            "outputs": []
        }, 
        {
            "metadata": {
                "scrolled": false
            }, 
            "source": "\nbbhCashDF = pd.read_excel(getFileFromObjectStorage('MizuhoPOC', 'BBH - Cash.xlsx'),header=[0])\n\n# Drop rows & columns with all 'NaN' values, axis 0 is for row\n# bbhCashFilteredDF = bbhCashDF.fillna('')\n#dropna(axis=[0,1], how='all')\n# bbhCustodyFilteredDF.head(10)\nbbhCashRenamedDF = bbhCashFilteredDF.rename(index=str, columns={\"Head Account Number\": \"ACCT_NUM\", \"Actual Available Balance\": \"ACT_AVAIL_BAL\",\n                                                                   \"Actual Variance Amount\": \"ACT_VAR_AMT\",\"Bank of Deposit\": \"DEPOSIT_BANK\",\n                                                                   \"Currency Account Name\": \"FUND_NAME\",\"Currency Code\": \"CURR_CODE\",\n                                                                   \"Opening Available + CMS Sweep Return\": \"OPEN_AVAIL_CMS_SWEEP_RETURN\", \n                                                                   \"Opening Available Balance\": \"OPEN_AVAIL_BAL\", \"Prior Day NAV\": \"PRIOR_DAY_NAV\", \n                                                                   \"Projected Closing Available Balance\": \"PROJ_CLOSE_AVAIL_BAL\", \n                                                                   \"Sub Account Number\": \"SUB_ACCT_NUM\",\"Value Date\": \"AS_OF_DATE\"})\n\n# Convert the datetimeindex object to date\nbbhCashRenamedDF['AS_OF_DATE'] = pd.DatetimeIndex(bbhCashRenamedDF['AS_OF_DATE']).date\n\nbbhCashRenamedDF[['ACT_AVAIL_BAL', 'ACT_VAR_AMT', 'OPEN_AVAIL_CMS_SWEEP_RETURN', 'OPEN_AVAIL_BAL', 'PRIOR_DAY_NAV', 'PROJ_CLOSE_AVAIL_BAL']] = bbhCashRenamedDF[['ACT_AVAIL_BAL', 'ACT_VAR_AMT', 'OPEN_AVAIL_CMS_SWEEP_RETURN', 'OPEN_AVAIL_BAL', 'PRIOR_DAY_NAV', 'PROJ_CLOSE_AVAIL_BAL']].astype(float)\n\n\n#asOfDate = pd.to_datetime('today').strftime('%Y-%m-%d')\n\n#print \"\\nasOfDate = \" + asOfDate\n\n\n# bbhCustodyRenamedDF.head(20)\nprint bbhCashRenamedDF.dtypes\n\n", 
            "execution_count": 30, 
            "cell_type": "code", 
            "outputs": [
                {
                    "name": "stdout", 
                    "output_type": "stream", 
                    "text": "ACT_AVAIL_BAL                  float64\nACT_VAR_AMT                    float64\nDEPOSIT_BANK                    object\nFUND_NAME                       object\nCURR_CODE                       object\nACCT_NUM                         int64\nOPEN_AVAIL_CMS_SWEEP_RETURN    float64\nOPEN_AVAIL_BAL                 float64\nPRIOR_DAY_NAV                  float64\nPROJ_CLOSE_AVAIL_BAL           float64\nSUB_ACCT_NUM                     int64\nAS_OF_DATE                      object\ndtype: object\n"
                }
            ]
        }, 
        {
            "metadata": {}, 
            "source": "spark = SparkSession.builder.getOrCreate()  \n\ndef build_schema():\n    \"\"\"Build and return a schema to use for the sample data.\"\"\"\n    schema = StructType(\n        [\n            StructField(\"ACT_AVAIL_BAL\", DoubleType(), True),            \n            StructField(\"ACT_VAR_AMT\", DoubleType(), True),  \n            StructField(\"DEPOSIT_BANK\", StringType(), True),\n            StructField(\"FUND_NAME\",  StringType(), False),\n            StructField(\"CURR_CODE\", StringType(), True),\n            StructField(\"ACCT_NUM\", IntegerType(), False),\n            StructField(\"OPEN_AVAIL_CMS_SWEEP_RETURN\", DoubleType(), True),\n            StructField(\"OPEN_AVAIL_BAL\", DoubleType(), True),\n            StructField(\"PRIOR_DAY_NAV\", DoubleType(), True),\n            StructField(\"PROJ_CLOSE_AVAIL_BAL\", DoubleType(), True),\n            StructField(\"SUB_ACCT_NUM\", IntegerType(), True),\n            StructField(\"AS_OF_DATE\", DateType(), False)        \n        ]\n    )\n    return schema\n\nbbhCashSparkDF = spark.createDataFrame(bbhCashRenamedDF, schema=build_schema())\n\nbbhCashSparkDF.printSchema()\n\nbbhCashSparkDF.show()\n\n\n", 
            "execution_count": 31, 
            "cell_type": "code", 
            "outputs": [
                {
                    "name": "stdout", 
                    "output_type": "stream", 
                    "text": "root\n |-- ACT_AVAIL_BAL: double (nullable = true)\n |-- ACT_VAR_AMT: double (nullable = true)\n |-- DEPOSIT_BANK: string (nullable = true)\n |-- FUND_NAME: string (nullable = false)\n |-- CURR_CODE: string (nullable = true)\n |-- ACCT_NUM: integer (nullable = false)\n |-- OPEN_AVAIL_CMS_SWEEP_RETURN: double (nullable = true)\n |-- OPEN_AVAIL_BAL: double (nullable = true)\n |-- PRIOR_DAY_NAV: double (nullable = true)\n |-- PROJ_CLOSE_AVAIL_BAL: double (nullable = true)\n |-- SUB_ACCT_NUM: integer (nullable = true)\n |-- AS_OF_DATE: date (nullable = false)\n\n+-------------+-----------+------------+--------------------+---------+--------+---------------------------+--------------+-------------+--------------------+------------+----------+\n|ACT_AVAIL_BAL|ACT_VAR_AMT|DEPOSIT_BANK|           FUND_NAME|CURR_CODE|ACCT_NUM|OPEN_AVAIL_CMS_SWEEP_RETURN|OPEN_AVAIL_BAL|PRIOR_DAY_NAV|PROJ_CLOSE_AVAIL_BAL|SUB_ACCT_NUM|AS_OF_DATE|\n+-------------+-----------+------------+--------------------+---------+--------+---------------------------+--------------+-------------+--------------------+------------+----------+\n|   2296497.63|        0.0|         BBH|  CRYSTAL JAPAN FUND|      USD| 2203719|                 2300372.63|           0.0|          0.0|          2296497.63|     2203719|2017-07-27|\n| 5.60875494E8|        0.0|         BBH|JPY CRYSTAL JAPAN...|      JPY| 2203719|               5.60875494E8|           0.0|          0.0|        5.60875494E8|     1838812|2017-07-27|\n+-------------+-----------+------------+--------------------+---------+--------+---------------------------+--------------+-------------+--------------------+------------+----------+\n\n"
                }
            ]
        }, 
        {
            "metadata": {}, 
            "source": "dashDBloadOptions = { \n                    Connectors.DASHDB.HOST              : dashCredentials[\"host\"],\n                    Connectors.DASHDB.DATABASE          : dashCredentials[\"db\"],\n                    Connectors.DASHDB.USERNAME          : dashCredentials[\"username\"],\n                    Connectors.DASHDB.PASSWORD          : dashCredentials[\"password\"],\n                    Connectors.DASHDB.SOURCE_TABLE_NAME : dashCredentials[\"REF_FUND_MAPPING_TABLE\"],\n}\n\nrefFundMappingDF = sqlContext.read.format(\"com.ibm.spark.discover\").options(**dashDBloadOptions).load()\nrefFundMappingDF.printSchema()\nrefFundMappingDF.show(1)", 
            "execution_count": 32, 
            "cell_type": "code", 
            "outputs": [
                {
                    "name": "stdout", 
                    "output_type": "stream", 
                    "text": "root\n |-- ALADDIN_ID: string (nullable = true)\n |-- FUND_NAME: string (nullable = true)\n |-- FUTURES_ACCT_ID: string (nullable = true)\n |-- BTIG_ID: string (nullable = true)\n |-- FUND_ID: string (nullable = true)\n |-- NEWEDGE_ID: string (nullable = true)\n |-- BASE: string (nullable = true)\n |-- BARC_ID: string (nullable = true)\n\n+----------+------------------+---------------+-------+---------+----------+----+-------+\n|ALADDIN_ID|         FUND_NAME|FUTURES_ACCT_ID|BTIG_ID|  FUND_ID|NEWEDGE_ID|BASE|BARC_ID|\n+----------+------------------+---------------+-------+---------+----------+----+-------+\n|     I-CJF|CRYSTAL JAPAN FUND|          C6500|       |I-ASIAPAC|     72590|  JY|  4902C|\n+----------+------------------+---------------+-------+---------+----------+----+-------+\nonly showing top 1 row\n\n"
                }
            ]
        }, 
        {
            "metadata": {}, 
            "source": "bbhCashJoinSparkDF = bbhCashSparkDF.join(refFundMappingDF, \n                                               bbhCashSparkDF.FUND_NAME == refFundMappingDF.FUND_NAME, \"inner\")\\\n                                        .select(bbhCashSparkDF.ACCT_NUM,bbhCashSparkDF.FUND_NAME,\n                                                refFundMappingDF.ALADDIN_ID.alias(\"FUND_ID\"),\n                                                bbhCashSparkDF.ACT_AVAIL_BAL,\n                                                bbhCashSparkDF.ACT_VAR_AMT,\n                                                bbhCashSparkDF.DEPOSIT_BANK,\n                                                bbhCashSparkDF.CURR_CODE,\n                                                bbhCashSparkDF.OPEN_AVAIL_CMS_SWEEP_RETURN,\n                                                bbhCashSparkDF.OPEN_AVAIL_BAL,\n                                                bbhCashSparkDF.PRIOR_DAY_NAV,\n                                                bbhCashSparkDF.PROJ_CLOSE_AVAIL_BAL,\n                                                bbhCashSparkDF.SUB_ACCT_NUM,\n                                                bbhCashSparkDF.AS_OF_DATE\n                                               )\n\nbbhCashJoinSparkDF.show(1)\n\n", 
            "execution_count": 34, 
            "cell_type": "code", 
            "outputs": [
                {
                    "name": "stdout", 
                    "output_type": "stream", 
                    "text": "+--------+------------------+-------+-------------+-----------+------------+---------+---------------------------+--------------+-------------+--------------------+------------+----------+\n|ACCT_NUM|         FUND_NAME|FUND_ID|ACT_AVAIL_BAL|ACT_VAR_AMT|DEPOSIT_BANK|CURR_CODE|OPEN_AVAIL_CMS_SWEEP_RETURN|OPEN_AVAIL_BAL|PRIOR_DAY_NAV|PROJ_CLOSE_AVAIL_BAL|SUB_ACCT_NUM|AS_OF_DATE|\n+--------+------------------+-------+-------------+-----------+------------+---------+---------------------------+--------------+-------------+--------------------+------------+----------+\n| 2203719|CRYSTAL JAPAN FUND|  I-CJF|   2296497.63|        0.0|         BBH|      USD|                 2300372.63|           0.0|          0.0|          2296497.63|     2203719|2017-07-27|\n+--------+------------------+-------+-------------+-----------+------------+---------+---------------------------+--------------+-------------+--------------------+------------+----------+\n\n"
                }
            ]
        }, 
        {
            "metadata": {}, 
            "source": "# Connection to Dash DB for writing the data\ndashdbsaveoption = {\n                     Connectors.DASHDB.HOST              : dashCredentials[\"host\"],\n                     Connectors.DASHDB.DATABASE          : dashCredentials[\"db\"],\n                     Connectors.DASHDB.USERNAME          : dashCredentials[\"username\"],\n                     Connectors.DASHDB.PASSWORD          : dashCredentials[\"password\"],\n                     Connectors.DASHDB.TARGET_TABLE_NAME : dashCredentials[\"tableName\"],\n                     Connectors.DASHDB.TARGET_WRITE_MODE : 'merge' \n}\n\nbbhCashJoinSparkDF.printSchema()\n\nsaveDashDBDF = bbhCashJoinSparkDF.write.format(\"com.ibm.spark.discover\").options(**dashdbsaveoption).save()", 
            "execution_count": 35, 
            "cell_type": "code", 
            "outputs": [
                {
                    "name": "stdout", 
                    "output_type": "stream", 
                    "text": "root\n |-- ACCT_NUM: integer (nullable = false)\n |-- FUND_NAME: string (nullable = false)\n |-- FUND_ID: string (nullable = true)\n |-- ACT_AVAIL_BAL: double (nullable = true)\n |-- ACT_VAR_AMT: double (nullable = true)\n |-- DEPOSIT_BANK: string (nullable = true)\n |-- CURR_CODE: string (nullable = true)\n |-- OPEN_AVAIL_CMS_SWEEP_RETURN: double (nullable = true)\n |-- OPEN_AVAIL_BAL: double (nullable = true)\n |-- PRIOR_DAY_NAV: double (nullable = true)\n |-- PROJ_CLOSE_AVAIL_BAL: double (nullable = true)\n |-- SUB_ACCT_NUM: integer (nullable = true)\n |-- AS_OF_DATE: date (nullable = false)\n\n"
                }
            ]
        }, 
        {
            "metadata": {
                "collapsed": true
            }, 
            "source": "", 
            "execution_count": null, 
            "cell_type": "code", 
            "outputs": []
        }
    ], 
    "nbformat_minor": 1
}